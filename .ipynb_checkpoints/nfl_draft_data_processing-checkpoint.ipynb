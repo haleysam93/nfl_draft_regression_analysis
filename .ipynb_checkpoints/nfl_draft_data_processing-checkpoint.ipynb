{
 "cells": [
  {
   "cell_type": "markdown",
   "metadata": {},
   "source": [
    "# NFL Draft Data Processing"
   ]
  },
  {
   "cell_type": "code",
   "execution_count": 1,
   "metadata": {},
   "outputs": [],
   "source": [
    "import numpy as np\n",
    "import pandas as pd\n",
    "\n",
    "from sklearn.preprocessing import StandardScaler, MinMaxScaler\n",
    "from sklearn.preprocessing import OneHotEncoder\n",
    "\n",
    "from scipy import stats"
   ]
  },
  {
   "cell_type": "markdown",
   "metadata": {},
   "source": [
    "## Data Sources:\n",
    "\n",
    "### NFL Draft Data:\n",
    "\n",
    "https://www.reddit.com/r/NFL_Draft/comments/8cxcxj/2018_nfl_draft_data/\n",
    "\n",
    "https://docs.google.com/spreadsheets/d/1sFcj1W38gR_Bg3BQz8lZSuFrRQr0BDk8K066ctrxrOA/edit#gid=1586587221\n",
    "\n",
    "### CFB Standings\n",
    "\n",
    "https://www.sports-reference.com/cfb/years/2018-standings.html"
   ]
  },
  {
   "cell_type": "markdown",
   "metadata": {},
   "source": [
    "### Data Loading Functions"
   ]
  },
  {
   "cell_type": "code",
   "execution_count": 2,
   "metadata": {},
   "outputs": [],
   "source": [
    "years = list(range(1999, 2018))\n",
    "# column rename map to allow for vertical concatenation between years\n",
    "consistency_rename_map = {\n",
    "    \"W.1\":\"ConfW\",\n",
    "    \"L.1\":\"ConfL\",\n",
    "    \"Pct.1\":\"ConfPct\",\n",
    "    \"AP Post\":\"AP Rank\"\n",
    "}\n",
    "# column rename map for formatting\n",
    "formatting_rename_map = {\n",
    "    \"Pct\":\"win_pct\",\n",
    "    \"W\":\"wins\",\n",
    "    \"L\":\"losses\",\n",
    "    \"Off\":\"ppg_off\",\n",
    "    \"Def\":\"ppg_def\",\n",
    "    \"SRS\":\"srs\",\n",
    "    \"SOS\":\"sos\",\n",
    "    \"AP Pre\":\"ap_pre\",\n",
    "    \"AP Rank\":\"ap_rank\",\n",
    "    \"AP High\":\"ap_high\",\n",
    "}\n",
    "\n",
    "def get_cfb_standings():\n",
    "    data = []\n",
    "    for year in years:\n",
    "        pth = \"./cfb_standings_{}.csv\".format(year)\n",
    "        year_data = pd.read_csv(pth)\n",
    "        year_data = year_data.rename(columns=consistency_rename_map)\n",
    "        year_data[\"college_year\"] = year\n",
    "        data.append(year_data)\n",
    "    combined = pd.concat(data)\n",
    "    return combined.rename(columns=formatting_rename_map).reset_index(drop=True)"
   ]
  },
  {
   "cell_type": "code",
   "execution_count": 3,
   "metadata": {},
   "outputs": [],
   "source": [
    "def get_draft_data():\n",
    "    nfl_draft = pd.read_excel(\"./NFL-Draft-2018.xlsx\")\n",
    "    nfl_draft[\"college_year\"] = nfl_draft[\"year\"] - 1\n",
    "    return nfl_draft"
   ]
  },
  {
   "cell_type": "code",
   "execution_count": 4,
   "metadata": {},
   "outputs": [],
   "source": [
    "cfb_standings = get_cfb_standings()"
   ]
  },
  {
   "cell_type": "code",
   "execution_count": 5,
   "metadata": {},
   "outputs": [
    {
     "data": {
      "text/plain": [
       "Index(['Rk', 'School', 'Conf', 'wins', 'losses', 'win_pct', 'ConfW', 'ConfL',\n",
       "       'ConfPct', 'ppg_off', 'ppg_def', 'srs', 'sos', 'ap_pre', 'ap_high',\n",
       "       'ap_rank', 'Notes', 'college_year'],\n",
       "      dtype='object')"
      ]
     },
     "execution_count": 5,
     "metadata": {},
     "output_type": "execute_result"
    }
   ],
   "source": [
    "cfb_standings.columns"
   ]
  },
  {
   "cell_type": "code",
   "execution_count": 6,
   "metadata": {},
   "outputs": [],
   "source": [
    "nfl_draft = get_draft_data()"
   ]
  },
  {
   "cell_type": "code",
   "execution_count": 7,
   "metadata": {},
   "outputs": [
    {
     "data": {
      "text/plain": [
       "Index(['url', 'pick', 'team', 'year', 'pos', 'player', 'college',\n",
       "       'missing_combine_vals', 'height_inches', 'weight', 'forty', 'vertical',\n",
       "       'bench', 'broad', 'threecone', 'shuttle', 'defense.ast.tackles',\n",
       "       'defense.fum.forced', 'defense.fum.rec', 'defense.fum.tds',\n",
       "       'defense.fum.yds', 'defense.games', 'defense.int', 'defense.int.td',\n",
       "       'defense.int.yards', 'defense.loss.tackles', 'defense.pd',\n",
       "       'defense.sacks', 'defense.seasons', 'defense.solo.tackes',\n",
       "       'defense.tackles', 'passing.attempts', 'passing.comp.pct',\n",
       "       'passing.completions', 'passing.games', 'passing.pass.ints',\n",
       "       'passing.pass.tds', 'passing.pass.yards', 'passing.seasons',\n",
       "       'receiving.games', 'receiving.rec.td', 'receiving.rec.yards',\n",
       "       'receiving.receptions', 'receiving.rush.att', 'receiving.rush.td',\n",
       "       'receiving.rush.yds', 'receiving.scrim.plays', 'receiving.scrim.tds',\n",
       "       'receiving.scrim.yds', 'receiving.seasons', 'rushing.games',\n",
       "       'rushing.rec.td', 'rushing.rec.yards', 'rushing.receptions',\n",
       "       'rushing.rush.att', 'rushing.rush.td', 'rushing.rush.yds',\n",
       "       'rushing.scrim.plays', 'rushing.scrim.tds', 'rushing.scrim.yds',\n",
       "       'rushing.seasons', 'num_murders', 'purple.drank.incidents',\n",
       "       'college_year'],\n",
       "      dtype='object')"
      ]
     },
     "execution_count": 7,
     "metadata": {},
     "output_type": "execute_result"
    }
   ],
   "source": [
    "nfl_draft.columns"
   ]
  },
  {
   "cell_type": "markdown",
   "metadata": {},
   "source": [
    "### Rank to Standard Normal Function"
   ]
  },
  {
   "cell_type": "code",
   "execution_count": 8,
   "metadata": {},
   "outputs": [],
   "source": [
    "def rank_to_normal(data, N):\n",
    "    pcts = ((N + 1) - data) / (N + 1)\n",
    "    return stats.norm.ppf(pcts)"
   ]
  },
  {
   "cell_type": "markdown",
   "metadata": {},
   "source": [
    "### CFB Standings Transformation Functions"
   ]
  },
  {
   "cell_type": "code",
   "execution_count": 9,
   "metadata": {},
   "outputs": [],
   "source": [
    "power5_confs = [\"SEC (West)\", \"Big 12\", \"SEC (East)\", \"Big Ten (East)\",\n",
    "                \"ACC (Coastal)\", \"ACC (Atlantic)\", \"Pac-12 (South)\",\n",
    "                \"Big Ten (West)\", \"Pac-12 (North)\"]\n",
    "def is_power5(data):\n",
    "    return data.Conf.isin(power5_confs).astype(int)"
   ]
  },
  {
   "cell_type": "code",
   "execution_count": 10,
   "metadata": {},
   "outputs": [],
   "source": [
    "confs = [\n",
    "    'SEC', 'ACC', 'Big Ten', 'Big 12', 'Pac-10',\n",
    "    'Sun Belt', 'MAC', 'WAC', 'MWC', 'Ind', 'CUSA'\n",
    "]\n",
    "\n",
    "def transform_confs(data):\n",
    "    data[\"conf\"] = data.Conf.str.replace(r\" \\(.+\\)\", \"\")\n",
    "    data.loc[data.conf == \"Pac-12\", \"conf\"] = \"Pac-10\"\n",
    "    data.loc[~data.conf.isin(confs), \"conf\"] = \"Other\"\n",
    "    data.conf = data.conf.fillna(\"Other\")\n",
    "    return data\n",
    "\n",
    "def encode_confs(data): \n",
    "    enc = OneHotEncoder(sparse=False, dtype=int)\n",
    "    conf_vals = enc.fit_transform(data[[\"conf\"]])\n",
    "    conf_col_names = list(enc.get_feature_names([\"conf\"]))\n",
    "    conf_df = pd.DataFrame(conf_vals, columns=conf_col_names)\n",
    "    return pd.concat([data, conf_df], axis=1)\n",
    "\n",
    "def normalize_ap_rank(data):\n",
    "    data = data.copy()\n",
    "    for year, grp in data.groupby(\"college_year\"):\n",
    "        num_teams = len(grp)\n",
    "        non_ranked = grp.loc[grp[\"ap_rank\"].isnull()]\n",
    "        never_ranked = grp.loc[grp[\"ap_high\"].isnull()]\n",
    "        num_ranked = num_teams - len(never_ranked)\n",
    "        \n",
    "        non_ranked_rank = 25 + ((num_ranked - 25) / 2)\n",
    "        grp.loc[non_ranked.index, \"ap_rank\"] = non_ranked_rank\n",
    "        \n",
    "        never_ranked_rank = num_ranked + ((len(never_ranked)) / 2)\n",
    "        grp.loc[never_ranked.index, \"ap_rank\"] = never_ranked_rank\n",
    "        \n",
    "        data.loc[grp.index, \"ap_rank_score\"] = rank_to_normal(grp[\"ap_rank\"], num_teams)\n",
    "        print(\"{}: \\n {} non ranked teams rank = {}, {} never ranked teams rank = {}\"\n",
    "              .format(year, len(non_ranked), non_ranked_rank, len(never_ranked), never_ranked_rank))\n",
    "    return data"
   ]
  },
  {
   "cell_type": "markdown",
   "metadata": {},
   "source": [
    "### NFL Draft Data Transformation Functions"
   ]
  },
  {
   "cell_type": "code",
   "execution_count": 11,
   "metadata": {},
   "outputs": [],
   "source": [
    "college_map = {\n",
    "    \"Southern California\":\"USC\",\n",
    "    \"Pittsburgh\":\"Pitt\",\n",
    "    \"Mississippi\":\"Ole Miss\",\n",
    "    \"TCU\":\"Texas Christian\",\n",
    "    \"Central Florida\": \"UCF\",\n",
    "    \"Southern Miss\": \"Southern Mississippi\",\n",
    "    \"UNLV\": \"Nevada-Las Vegas\",\n",
    "    \"Texas-El Paso\":\"UTEP\",\n",
    "    \"Ohio St.\":\"Ohio State\",\n",
    "    \"Florida St.\":\"Florida State\",\n",
    "    \"North Carolina St.\":\"North Carolina State\",\n",
    "    \"Penn St.\":'Penn State',\n",
    "    \"Southern Methodist\":'SMU',\n",
    "    #\"Idaho\":\n",
    "    \"Miami\":\"Miami (FL)\",\n",
    "    \"Oklahoma St.\":\"Oklahoma State\",\n",
    "    \"San Diego St.\":'San Diego State',\n",
    "    #\"Alabam-Birmingham\":\n",
    "    \"Washington St.\":'Washington State',\n",
    "    #\"Lousiana-Lafeyette\":\n",
    "    \"Brigham Young\":'BYU',\n",
    "    \"Bowling Green\":'Bowling Green State',\n",
    "    \"Louisiana State\":\"LSU\",\n",
    "}\n",
    "\n",
    "def rename_colleges(data):\n",
    "    \"\"\"Rename colleges so that the merge properly\"\"\"\n",
    "    return data.college.apply(lambda x: college_map.get(x, x))\n",
    "\n",
    "def get_undrafted_pick(undrafted, last_pick):\n",
    "    return last_pick + (len(undrafted) / 2)\n",
    "\n",
    "def normalize_pick(data, undrafted=False):    \n",
    "    data = data.copy()\n",
    "    if not undrafted:\n",
    "        data = data.loc[data.pick < 300].reset_index(drop=True)\n",
    "    for year, grp in data.groupby(\"year\"):        \n",
    "        last_pick = grp.loc[grp.pick < 300].pick.max()\n",
    "        undrafted = grp.loc[grp.pick >= 300]\n",
    "        data.loc[undrafted.index, \"pick\"] = get_undrafted_pick(undrafted, last_pick)\n",
    "        data.loc[grp.index, \"pick_score\"] = rank_to_normal(grp.pick, last_pick + len(undrafted))\n",
    "    return data"
   ]
  },
  {
   "cell_type": "markdown",
   "metadata": {},
   "source": [
    "### Position Filtering Functions"
   ]
  },
  {
   "cell_type": "code",
   "execution_count": 12,
   "metadata": {},
   "outputs": [],
   "source": [
    "def filter_oline(data):\n",
    "    \"\"\"Filter the data to offensive lineman\"\"\"\n",
    "    return data.loc[data.pos.isin([\"OT\", \"OG\", \"C\", \"G\", \"OL\"]), :].reset_index(drop=True)\n",
    "\n",
    "def filter_wrs(data):\n",
    "    return data.loc[data.pos == \"WR\", :].reset_index(drop=True)\n",
    "\n",
    "def filter_rbs(data):\n",
    "    return data.loc[data.pos == \"RB\", :].reset_index(drop=True)"
   ]
  },
  {
   "cell_type": "markdown",
   "metadata": {},
   "source": [
    "### Position Specific Transformations Functions"
   ]
  },
  {
   "cell_type": "code",
   "execution_count": 13,
   "metadata": {},
   "outputs": [],
   "source": [
    "def handle_nans(data):\n",
    "    data = data.fillna(data.mean())\n",
    "    #data = data.dropna()\n",
    "    return data.reset_index(drop=True)\n",
    "\n",
    "def normalize_receiving(data):\n",
    "    data = data.copy()\n",
    "    # totals\n",
    "    data[\"total_seasons\"] = data[\"receiving.seasons\"]\n",
    "    data[\"total_games\"] = data[\"receiving.games\"]\n",
    "    data[\"receiving.total_rec\"] = data[\"receiving.receptions\"]\n",
    "    data[\"receiving.total_plays\"] = data[\"receiving.scrim.plays\"]\n",
    "    data[\"receiving.total_yds\"] = data['receiving.scrim.yds']\n",
    "    data[\"receiving.total_rec_yds\"] = data[\"receiving.rec.yards\"]\n",
    "    data[\"receiving.total_tds\"] = data['receiving.scrim.tds']\n",
    "    data[\"receiving.total_rec_tds\"] = data[\"receiving.rec.td\"]\n",
    "    # per game stats\n",
    "    data[\"receiving.recs_per_game\"] = data[\"receiving.total_rec\"] / data[\"total_games\"]\n",
    "    data[\"receiving.yds_per_game\"] = data[\"receiving.total_yds\"] / data[\"total_games\"]\n",
    "    data[\"receiving.tds_per_game\"] = data[\"receiving.total_tds\"] / data[\"total_games\"]\n",
    "    # per reception\n",
    "    data[\"receiving.yds_per_rec\"] = data[\"receiving.total_rec_yds\"] / data[\"receiving.receptions\"]\n",
    "    data[\"receiving.tds_per_rec\"] = data[\"receiving.total_rec_tds\"] / data[\"receiving.receptions\"]\n",
    "    \n",
    "    return data\n",
    "\n",
    "def normalize_rushing(data):\n",
    "    data = data.copy()\n",
    "    # totals\n",
    "    data[\"total_seasons\"] = data[\"rushing.seasons\"]\n",
    "    data[\"total_games\"] = data[\"rushing.games\"]\n",
    "    data[\"rushing.total_plays\"] = data[\"rushing.scrim.plays\"]\n",
    "    data[\"rushing.total_atts\"] = data[\"rushing.rush.att\"]\n",
    "    data[\"rushing.total_yds\"] = data['rushing.scrim.yds']\n",
    "    data[\"rushing.total_rush_yds\"] = data[\"rushing.rush.yds\"]\n",
    "    data[\"rushing.total_rec_yds\"] = data[\"rushing.rec.yards\"]\n",
    "    data[\"rushing.total_tds\"] = data['rushing.scrim.tds']\n",
    "    data[\"rushing.total_rush_tds\"] = data[\"rushing.rush.td\"]\n",
    "    data[\"rushing.total_rec_tds\"] = data[\"rushing.rec.td\"]\n",
    "    data[\"rushing.total_recs\"] = data[\"rushing.receptions\"]\n",
    "    # per game stats\n",
    "    data[\"rushing.atts_per_game\"] = data[\"rushing.total_atts\"] / data[\"total_games\"]\n",
    "    data[\"rushing.yds_per_game\"] = data[\"rushing.total_yds\"] / data[\"total_games\"]\n",
    "    data[\"rushing.rush_yds_per_game\"] = data[\"rushing.total_rush_yds\"] / data[\"total_games\"]\n",
    "    data[\"rushing.rec_yds_per_game\"] = data[\"rushing.total_rec_yds\"] / data[\"total_games\"]\n",
    "    data[\"rushing.tds_per_game\"] = data[\"rushing.total_tds\"] / data[\"total_games\"]\n",
    "    data[\"rushing.rush_tds_per_game\"] = data[\"rushing.total_rush_tds\"] / data[\"total_games\"]\n",
    "    data[\"rushing.rec_tds_per_game\"] = data[\"rushing.total_rec_tds\"] / data[\"total_games\"]\n",
    "    data[\"rushing.recs_per_game\"] = data[\"rushing.total_recs\"] / data[\"total_games\"]\n",
    "    # per att stats\n",
    "    data[\"rushing.rush_yds_per_att\"] = data[\"rushing.total_rush_yds\"] / data[\"rushing.total_atts\"]\n",
    "    data[\"rushing.rush_tds_per_att\"] = data[\"rushing.total_rush_tds\"] / data[\"rushing.total_atts\"]\n",
    "    # per rec stats\n",
    "    data[\"rushing.rec_yds_per_rec\"] = data[\"rushing.total_rec_yds\"] / data[\"rushing.receptions\"]\n",
    "    data[\"rushing.rec_tds_per_rec\"] = data[\"rushing.total_rec_tds\"] / data[\"rushing.receptions\"]\n",
    "\n",
    "    return data\n",
    "\n",
    "def normalize_data(data, cols):\n",
    "    \"\"\"Normalize variables using standard scaler\"\"\"\n",
    "    data = data.copy()\n",
    "    data[cols] = StandardScaler().fit_transform(data[cols].values)  \n",
    "    return data"
   ]
  },
  {
   "cell_type": "markdown",
   "metadata": {},
   "source": [
    "### Process Data"
   ]
  },
  {
   "cell_type": "code",
   "execution_count": 14,
   "metadata": {},
   "outputs": [
    {
     "name": "stdout",
     "output_type": "stream",
     "text": [
      "1999: \n",
      " 89 non ranked teams rank = 34.5, 70 never ranked teams rank = 79.0\n",
      "2000: \n",
      " 91 non ranked teams rank = 34.0, 73 never ranked teams rank = 79.5\n",
      "2001: \n",
      " 92 non ranked teams rank = 34.5, 73 never ranked teams rank = 80.5\n",
      "2002: \n",
      " 92 non ranked teams rank = 36.5, 69 never ranked teams rank = 82.5\n",
      "2003: \n",
      " 92 non ranked teams rank = 36.0, 70 never ranked teams rank = 82.0\n",
      "2004: \n",
      " 95 non ranked teams rank = 33.5, 78 never ranked teams rank = 81.0\n",
      "2005: \n",
      " 94 non ranked teams rank = 34.0, 76 never ranked teams rank = 81.0\n",
      "2006: \n",
      " 94 non ranked teams rank = 32.0, 80 never ranked teams rank = 79.0\n",
      "2007: \n",
      " 95 non ranked teams rank = 35.5, 74 never ranked teams rank = 83.0\n",
      "2008: \n",
      " 95 non ranked teams rank = 38.0, 69 never ranked teams rank = 85.5\n",
      "2009: \n",
      " 95 non ranked teams rank = 34.5, 76 never ranked teams rank = 82.0\n",
      "2010: \n",
      " 95 non ranked teams rank = 35.5, 74 never ranked teams rank = 83.0\n",
      "2011: \n",
      " 95 non ranked teams rank = 33.0, 79 never ranked teams rank = 80.5\n",
      "2012: \n",
      " 99 non ranked teams rank = 36.0, 77 never ranked teams rank = 85.5\n",
      "2013: \n",
      " 100 non ranked teams rank = 33.0, 84 never ranked teams rank = 83.0\n",
      "2014: \n",
      " 103 non ranked teams rank = 33.5, 86 never ranked teams rank = 85.0\n",
      "2015: \n",
      " 103 non ranked teams rank = 35.5, 82 never ranked teams rank = 87.0\n",
      "2016: \n",
      " 103 non ranked teams rank = 35.5, 82 never ranked teams rank = 87.0\n",
      "2017: \n",
      " 105 non ranked teams rank = 34.5, 86 never ranked teams rank = 87.0\n"
     ]
    },
    {
     "name": "stderr",
     "output_type": "stream",
     "text": [
      "/home/sam/.conda/envs/nfl_draft_analysis/lib/python3.7/site-packages/pandas/core/indexing.py:966: SettingWithCopyWarning: \n",
      "A value is trying to be set on a copy of a slice from a DataFrame.\n",
      "Try using .loc[row_indexer,col_indexer] = value instead\n",
      "\n",
      "See the caveats in the documentation: https://pandas.pydata.org/pandas-docs/stable/user_guide/indexing.html#returning-a-view-versus-a-copy\n",
      "  self.obj[item] = s\n"
     ]
    }
   ],
   "source": [
    "cfb_standings = normalize_ap_rank(cfb_standings)"
   ]
  },
  {
   "cell_type": "code",
   "execution_count": 15,
   "metadata": {},
   "outputs": [],
   "source": [
    "nfl_draft[\"college\"] = rename_colleges(nfl_draft)"
   ]
  },
  {
   "cell_type": "code",
   "execution_count": 16,
   "metadata": {},
   "outputs": [],
   "source": [
    "data = pd.merge(nfl_draft, cfb_standings,\n",
    "                how=\"left\", left_on=[\"college_year\", \"college\"], right_on=[\"college_year\", \"School\"])"
   ]
  },
  {
   "cell_type": "code",
   "execution_count": 17,
   "metadata": {},
   "outputs": [
    {
     "name": "stderr",
     "output_type": "stream",
     "text": [
      "/home/sam/.conda/envs/nfl_draft_analysis/lib/python3.7/site-packages/scipy/stats/_distn_infrastructure.py:1997: RuntimeWarning: invalid value encountered in greater\n",
      "  cond1 = (0 < q) & (q < 1)\n",
      "/home/sam/.conda/envs/nfl_draft_analysis/lib/python3.7/site-packages/scipy/stats/_distn_infrastructure.py:1997: RuntimeWarning: invalid value encountered in less\n",
      "  cond1 = (0 < q) & (q < 1)\n"
     ]
    }
   ],
   "source": [
    "data = (data\n",
    "        .pipe(normalize_pick, undrafted=True)\n",
    "        .pipe(transform_confs)\n",
    "        .pipe(encode_confs))\n",
    "data[\"power5\"] = is_power5(data)"
   ]
  },
  {
   "cell_type": "markdown",
   "metadata": {},
   "source": [
    "### Data Selection Parameters"
   ]
  },
  {
   "cell_type": "code",
   "execution_count": 18,
   "metadata": {},
   "outputs": [],
   "source": [
    "idx_cols = ['year', 'pos', 'player', 'college', 'team']\n",
    "measureable_cols = ['height_inches', 'weight', 'forty', 'vertical', 'bench',\n",
    "                    'broad', 'threecone', 'shuttle']\n",
    "receiving_cols = [\"total_seasons\", \"total_games\", \"receiving.total_rec\", \"receiving.total_plays\",\n",
    "                    \"receiving.total_yds\", \"receiving.total_rec_yds\", \"receiving.total_tds\",\n",
    "                    \"receiving.total_rec_tds\", \"receiving.recs_per_game\",\n",
    "                    \"receiving.yds_per_game\", \"receiving.tds_per_game\", \"receiving.yds_per_rec\",\n",
    "                    \"receiving.tds_per_rec\"]\n",
    "rushing_cols = [\"total_seasons\", \"total_games\", \"rushing.total_plays\", \"rushing.total_atts\",\n",
    "                \"rushing.total_yds\", \"rushing.total_rush_yds\", \"rushing.total_rec_yds\", \n",
    "                \"rushing.total_tds\", \"rushing.total_rush_tds\", \"rushing.total_rec_tds\",\n",
    "                \"rushing.total_recs\", \"rushing.atts_per_game\", \"rushing.yds_per_game\",\n",
    "                \"rushing.rush_yds_per_game\", \"rushing.rec_yds_per_game\", \"rushing.tds_per_game\",\n",
    "                \"rushing.rush_tds_per_game\", \"rushing.rec_tds_per_game\", \"rushing.recs_per_game\",\n",
    "                \"rushing.rush_yds_per_att\", \"rushing.rush_tds_per_att\", \"rushing.rec_yds_per_rec\",\n",
    "                \"rushing.rec_tds_per_rec\"]\n",
    "conf_cols = [x for x in data.columns if x.startswith(\"conf_\")]\n",
    "team_cols_std = [\"win_pct\", \"wins\", \"losses\", \"ppg_off\", \"ppg_def\", \"srs\", \"sos\"]\n",
    "team_cols_no_std = [\"ap_rank_score\"]\n",
    "team_cols = team_cols_std + team_cols_no_std + conf_cols\n",
    "dep_cols = [\"pick\", \"pick_score\"]\n",
    "\n",
    "oline_cols = idx_cols + dep_cols + measureable_cols + team_cols\n",
    "endog_oline = \"pick_std\"\n",
    "exog_oline = measureable_cols + [\"ppg_off\", \"ppg_def\", \"ap_rank_std\", \"sos\"] + conf_cols\n",
    "wr_cols = idx_cols + dep_cols + measureable_cols + receiving_cols + team_cols\n",
    "endog_wrs = \"pick_std\"\n",
    "exog_wrs = (measureable_cols +\n",
    "            [\"receiving.games\", 'receiving.rec.td', 'receiving.yds_per_rec', 'receiving.receptions'] +\n",
    "            [\"ppg_off\", \"ppg_def\", \"ap_rank_std\", \"sos\"] +\n",
    "            conf_cols)\n",
    "rb_cols = idx_cols + dep_cols + measureable_cols + rushing_cols + team_cols\n",
    "endog_rbs = \"pick_std\"\n",
    "exog_rbs = (measureable_cols +\n",
    "            ['rushing.games', 'rushing.yds_per_att', 'rushing.rush.att',\n",
    "             'rushing.scrim.tds', 'rushing.yds_per_rec', 'rushing.receptions'] +\n",
    "            [\"ppg_off\", \"ppg_def\", \"ap_rank_std\", \"sos\"] +\n",
    "            conf_cols)"
   ]
  },
  {
   "cell_type": "markdown",
   "metadata": {},
   "source": [
    "### Write cleaned data"
   ]
  },
  {
   "cell_type": "code",
   "execution_count": 19,
   "metadata": {},
   "outputs": [],
   "source": [
    "data.to_csv(\"nfl_draft_clean.csv\", index=False)"
   ]
  },
  {
   "cell_type": "markdown",
   "metadata": {},
   "source": [
    "Create Oline Data:"
   ]
  },
  {
   "cell_type": "code",
   "execution_count": 20,
   "metadata": {},
   "outputs": [],
   "source": [
    "oline = (data\n",
    "         .pipe(filter_oline)\n",
    "         .pipe(lambda df: df.loc[:, oline_cols].reset_index(drop=True))\n",
    "         .pipe(handle_nans)\n",
    "         .pipe(normalize_data, cols=measureable_cols + team_cols_std)\n",
    ").set_index(idx_cols).sort_index()\n",
    "oline.to_csv(\"./oline_normalized.csv\")"
   ]
  },
  {
   "cell_type": "markdown",
   "metadata": {},
   "source": [
    "Create WRs data:"
   ]
  },
  {
   "cell_type": "code",
   "execution_count": 21,
   "metadata": {},
   "outputs": [],
   "source": [
    "wrs = (data\n",
    "       .pipe(filter_wrs)\n",
    "       .pipe(normalize_receiving)\n",
    "       .pipe(lambda df: df.loc[:, wr_cols].reset_index(drop=True))\n",
    "       .pipe(handle_nans)\n",
    "       .pipe(normalize_data, cols=measureable_cols + receiving_cols + team_cols_std)\n",
    ").set_index(idx_cols).sort_index()\n",
    "wrs.to_csv(\"./wrs_normalized.csv\")"
   ]
  },
  {
   "cell_type": "markdown",
   "metadata": {},
   "source": [
    "Create RBs Data:"
   ]
  },
  {
   "cell_type": "code",
   "execution_count": 22,
   "metadata": {},
   "outputs": [],
   "source": [
    "rbs = (data\n",
    "       .pipe(filter_rbs)\n",
    "       .pipe(normalize_rushing)\n",
    "       .pipe(lambda df: df.loc[:, rb_cols].reset_index(drop=True))\n",
    "       .pipe(handle_nans)\n",
    "       .pipe(normalize_data, cols=measureable_cols + rushing_cols + team_cols_std)\n",
    ").set_index(idx_cols).sort_index()\n",
    "rbs.to_csv(\"./rbs_normalized.csv\")"
   ]
  },
  {
   "cell_type": "markdown",
   "metadata": {},
   "source": [
    "### Data Validation"
   ]
  },
  {
   "cell_type": "code",
   "execution_count": 23,
   "metadata": {},
   "outputs": [
    {
     "ename": "KeyError",
     "evalue": "\"['ap_rank_std'] not in index\"",
     "output_type": "error",
     "traceback": [
      "\u001b[0;31m---------------------------------------------------------------------------\u001b[0m",
      "\u001b[0;31mKeyError\u001b[0m                                  Traceback (most recent call last)",
      "\u001b[0;32m<ipython-input-23-d04a969fd931>\u001b[0m in \u001b[0;36m<module>\u001b[0;34m\u001b[0m\n\u001b[0;32m----> 1\u001b[0;31m \u001b[0mdata\u001b[0m\u001b[0;34m[\u001b[0m\u001b[0;34m[\u001b[0m\u001b[0;34m\"conf\"\u001b[0m\u001b[0;34m,\u001b[0m \u001b[0;34m\"ap_rank_std\"\u001b[0m\u001b[0;34m]\u001b[0m\u001b[0;34m]\u001b[0m\u001b[0;34m.\u001b[0m\u001b[0minfo\u001b[0m\u001b[0;34m(\u001b[0m\u001b[0;34m)\u001b[0m\u001b[0;34m\u001b[0m\u001b[0;34m\u001b[0m\u001b[0m\n\u001b[0m",
      "\u001b[0;32m~/.conda/envs/nfl_draft_analysis/lib/python3.7/site-packages/pandas/core/frame.py\u001b[0m in \u001b[0;36m__getitem__\u001b[0;34m(self, key)\u001b[0m\n\u001b[1;32m   2804\u001b[0m             \u001b[0;32mif\u001b[0m \u001b[0mis_iterator\u001b[0m\u001b[0;34m(\u001b[0m\u001b[0mkey\u001b[0m\u001b[0;34m)\u001b[0m\u001b[0;34m:\u001b[0m\u001b[0;34m\u001b[0m\u001b[0;34m\u001b[0m\u001b[0m\n\u001b[1;32m   2805\u001b[0m                 \u001b[0mkey\u001b[0m \u001b[0;34m=\u001b[0m \u001b[0mlist\u001b[0m\u001b[0;34m(\u001b[0m\u001b[0mkey\u001b[0m\u001b[0;34m)\u001b[0m\u001b[0;34m\u001b[0m\u001b[0;34m\u001b[0m\u001b[0m\n\u001b[0;32m-> 2806\u001b[0;31m             \u001b[0mindexer\u001b[0m \u001b[0;34m=\u001b[0m \u001b[0mself\u001b[0m\u001b[0;34m.\u001b[0m\u001b[0mloc\u001b[0m\u001b[0;34m.\u001b[0m\u001b[0m_get_listlike_indexer\u001b[0m\u001b[0;34m(\u001b[0m\u001b[0mkey\u001b[0m\u001b[0;34m,\u001b[0m \u001b[0maxis\u001b[0m\u001b[0;34m=\u001b[0m\u001b[0;36m1\u001b[0m\u001b[0;34m,\u001b[0m \u001b[0mraise_missing\u001b[0m\u001b[0;34m=\u001b[0m\u001b[0;32mTrue\u001b[0m\u001b[0;34m)\u001b[0m\u001b[0;34m[\u001b[0m\u001b[0;36m1\u001b[0m\u001b[0;34m]\u001b[0m\u001b[0;34m\u001b[0m\u001b[0;34m\u001b[0m\u001b[0m\n\u001b[0m\u001b[1;32m   2807\u001b[0m \u001b[0;34m\u001b[0m\u001b[0m\n\u001b[1;32m   2808\u001b[0m         \u001b[0;31m# take() does not accept boolean indexers\u001b[0m\u001b[0;34m\u001b[0m\u001b[0;34m\u001b[0m\u001b[0;34m\u001b[0m\u001b[0m\n",
      "\u001b[0;32m~/.conda/envs/nfl_draft_analysis/lib/python3.7/site-packages/pandas/core/indexing.py\u001b[0m in \u001b[0;36m_get_listlike_indexer\u001b[0;34m(self, key, axis, raise_missing)\u001b[0m\n\u001b[1;32m   1551\u001b[0m \u001b[0;34m\u001b[0m\u001b[0m\n\u001b[1;32m   1552\u001b[0m         self._validate_read_indexer(\n\u001b[0;32m-> 1553\u001b[0;31m             \u001b[0mkeyarr\u001b[0m\u001b[0;34m,\u001b[0m \u001b[0mindexer\u001b[0m\u001b[0;34m,\u001b[0m \u001b[0mo\u001b[0m\u001b[0;34m.\u001b[0m\u001b[0m_get_axis_number\u001b[0m\u001b[0;34m(\u001b[0m\u001b[0maxis\u001b[0m\u001b[0;34m)\u001b[0m\u001b[0;34m,\u001b[0m \u001b[0mraise_missing\u001b[0m\u001b[0;34m=\u001b[0m\u001b[0mraise_missing\u001b[0m\u001b[0;34m\u001b[0m\u001b[0;34m\u001b[0m\u001b[0m\n\u001b[0m\u001b[1;32m   1554\u001b[0m         )\n\u001b[1;32m   1555\u001b[0m         \u001b[0;32mreturn\u001b[0m \u001b[0mkeyarr\u001b[0m\u001b[0;34m,\u001b[0m \u001b[0mindexer\u001b[0m\u001b[0;34m\u001b[0m\u001b[0;34m\u001b[0m\u001b[0m\n",
      "\u001b[0;32m~/.conda/envs/nfl_draft_analysis/lib/python3.7/site-packages/pandas/core/indexing.py\u001b[0m in \u001b[0;36m_validate_read_indexer\u001b[0;34m(self, key, indexer, axis, raise_missing)\u001b[0m\n\u001b[1;32m   1644\u001b[0m             \u001b[0;32mif\u001b[0m \u001b[0;32mnot\u001b[0m \u001b[0;34m(\u001b[0m\u001b[0mself\u001b[0m\u001b[0;34m.\u001b[0m\u001b[0mname\u001b[0m \u001b[0;34m==\u001b[0m \u001b[0;34m\"loc\"\u001b[0m \u001b[0;32mand\u001b[0m \u001b[0;32mnot\u001b[0m \u001b[0mraise_missing\u001b[0m\u001b[0;34m)\u001b[0m\u001b[0;34m:\u001b[0m\u001b[0;34m\u001b[0m\u001b[0;34m\u001b[0m\u001b[0m\n\u001b[1;32m   1645\u001b[0m                 \u001b[0mnot_found\u001b[0m \u001b[0;34m=\u001b[0m \u001b[0mlist\u001b[0m\u001b[0;34m(\u001b[0m\u001b[0mset\u001b[0m\u001b[0;34m(\u001b[0m\u001b[0mkey\u001b[0m\u001b[0;34m)\u001b[0m \u001b[0;34m-\u001b[0m \u001b[0mset\u001b[0m\u001b[0;34m(\u001b[0m\u001b[0max\u001b[0m\u001b[0;34m)\u001b[0m\u001b[0;34m)\u001b[0m\u001b[0;34m\u001b[0m\u001b[0;34m\u001b[0m\u001b[0m\n\u001b[0;32m-> 1646\u001b[0;31m                 \u001b[0;32mraise\u001b[0m \u001b[0mKeyError\u001b[0m\u001b[0;34m(\u001b[0m\u001b[0;34mf\"{not_found} not in index\"\u001b[0m\u001b[0;34m)\u001b[0m\u001b[0;34m\u001b[0m\u001b[0;34m\u001b[0m\u001b[0m\n\u001b[0m\u001b[1;32m   1647\u001b[0m \u001b[0;34m\u001b[0m\u001b[0m\n\u001b[1;32m   1648\u001b[0m             \u001b[0;31m# we skip the warning on Categorical/Interval\u001b[0m\u001b[0;34m\u001b[0m\u001b[0;34m\u001b[0m\u001b[0;34m\u001b[0m\u001b[0m\n",
      "\u001b[0;31mKeyError\u001b[0m: \"['ap_rank_std'] not in index\""
     ]
    }
   ],
   "source": [
    "data[[\"conf\", \"ap_rank_score\"]].info()"
   ]
  },
  {
   "cell_type": "code",
   "execution_count": null,
   "metadata": {},
   "outputs": [],
   "source": [
    "data.conf.value_counts()"
   ]
  },
  {
   "cell_type": "code",
   "execution_count": null,
   "metadata": {},
   "outputs": [],
   "source": [
    "data.groupby(\"conf\").agg({\"pick\":[\"count\", \"mean\", \"median\"]})"
   ]
  },
  {
   "cell_type": "code",
   "execution_count": null,
   "metadata": {},
   "outputs": [],
   "source": [
    "data.columns"
   ]
  },
  {
   "cell_type": "code",
   "execution_count": null,
   "metadata": {},
   "outputs": [],
   "source": [
    "oline[[\"pick_std\"] + exog_oline].describe().T"
   ]
  },
  {
   "cell_type": "code",
   "execution_count": null,
   "metadata": {},
   "outputs": [],
   "source": [
    "wrs[[endog_wrs] + exog_wrs].describe().T"
   ]
  },
  {
   "cell_type": "code",
   "execution_count": null,
   "metadata": {},
   "outputs": [],
   "source": [
    "rbs[[endog_rbs] + exog_rbs].describe().T"
   ]
  },
  {
   "cell_type": "code",
   "execution_count": null,
   "metadata": {},
   "outputs": [],
   "source": [
    "data.pick_std.hist(bins=50)"
   ]
  },
  {
   "cell_type": "code",
   "execution_count": null,
   "metadata": {},
   "outputs": [],
   "source": [
    "data.ap_rank_std.hist(bins=50)"
   ]
  },
  {
   "cell_type": "code",
   "execution_count": null,
   "metadata": {},
   "outputs": [],
   "source": [
    "data.conf.value_counts()"
   ]
  },
  {
   "cell_type": "code",
   "execution_count": null,
   "metadata": {},
   "outputs": [],
   "source": [
    "oline.win_pct.hist()"
   ]
  },
  {
   "cell_type": "markdown",
   "metadata": {},
   "source": [
    "Top college counts not being merged"
   ]
  },
  {
   "cell_type": "code",
   "execution_count": null,
   "metadata": {},
   "outputs": [],
   "source": [
    "(data.loc[~data.college.isin(cfb_standings.School)].college.value_counts().head(20))"
   ]
  },
  {
   "cell_type": "markdown",
   "metadata": {},
   "source": [
    "Players with colleges not getting merged:"
   ]
  },
  {
   "cell_type": "code",
   "execution_count": null,
   "metadata": {},
   "outputs": [],
   "source": [
    "data.loc[data.wins.isnull()].head(10)"
   ]
  },
  {
   "cell_type": "code",
   "execution_count": null,
   "metadata": {},
   "outputs": [],
   "source": []
  }
 ],
 "metadata": {
  "kernelspec": {
   "display_name": "Python 3",
   "language": "python",
   "name": "python3"
  },
  "language_info": {
   "codemirror_mode": {
    "name": "ipython",
    "version": 3
   },
   "file_extension": ".py",
   "mimetype": "text/x-python",
   "name": "python",
   "nbconvert_exporter": "python",
   "pygments_lexer": "ipython3",
   "version": "3.7.7"
  }
 },
 "nbformat": 4,
 "nbformat_minor": 2
}
